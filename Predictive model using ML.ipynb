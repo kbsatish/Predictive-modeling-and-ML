{
 "cells": [
  {
   "cell_type": "markdown",
   "metadata": {},
   "source": [
    "## Overview\n",
    "## Titanic: Machine Learning from Disaster\n",
    "The data has been split into two groups:\n",
    "\n",
    "training set (train.csv)\n",
    "\n",
    "test set (test.csv)\n",
    "\n",
    "The training set should be used to build your machine learning models. For the training set, we provide the outcome (also known as the “ground truth”) for each passenger. Your model will be based on “features” like passengers’ gender and class. You can also use feature engineering to create new features.\n",
    "\n",
    "The test set should be used to see how well your model performs on unseen data. For the test set, we do not provide the ground truth for each passenger. It is your job to predict these outcomes. For each passenger in the test set, use the model you trained to predict whether or not they survived the sinking of the Titanic.\n",
    "\n",
    "We also include gender_submission.csv, a set of predictions that assume all and only female passengers survive, as an example of what a submission file should look like.\n",
    "\n",
    "Data Dictionary\n",
    "\n",
    "Variable\tDefinition\tKey\n",
    "\n",
    "survival\tSurvival\t0 = No, 1 = Yes;\n",
    "pclass\t    Ticket class\t1 = 1st, 2 = 2nd, 3 = 3rd;\n",
    "sex\t        Sex;\n",
    "Age\t        Age in years;\t\n",
    "sibsp\t    # of siblings / spouses aboard the Titanic;\t\n",
    "parch\t    # of parents / children aboard the Titanic;\t\n",
    "ticket\t    Ticket number;\t\n",
    "fare\t    Passenger fare;\t\n",
    "cabin\t    Cabin number;\t\n",
    "embarked\tPort of Embarkation\tC = Cherbourg, Q = Queenstown, S = Southampton"
   ]
  },
  {
   "cell_type": "code",
   "execution_count": 289,
   "metadata": {},
   "outputs": [
    {
     "data": {
      "text/html": [
       "        <script type=\"text/javascript\">\n",
       "        window.PlotlyConfig = {MathJaxConfig: 'local'};\n",
       "        if (window.MathJax) {MathJax.Hub.Config({SVG: {font: \"STIX-Web\"}});}\n",
       "        if (typeof require !== 'undefined') {\n",
       "        require.undef(\"plotly\");\n",
       "        requirejs.config({\n",
       "            paths: {\n",
       "                'plotly': ['https://cdn.plot.ly/plotly-latest.min']\n",
       "            }\n",
       "        });\n",
       "        require(['plotly'], function(Plotly) {\n",
       "            window._Plotly = Plotly;\n",
       "        });\n",
       "        }\n",
       "        </script>\n",
       "        "
      ]
     },
     "metadata": {},
     "output_type": "display_data"
    }
   ],
   "source": [
    "# importing the required packages\n",
    "\n",
    "import pandas as pd\n",
    "import numpy as np\n",
    "\n",
    "import matplotlib.pyplot as plt\n",
    "%matplotlib inline\n",
    "\n",
    "from scipy import stats\n",
    "\n",
    "import sys\n",
    "import re\n",
    "import os\n",
    "import seaborn as sns\n",
    "\n",
    "from statsmodels.tsa.stattools import adfuller\n",
    "from pandas.plotting import autocorrelation_plot\n",
    "\n",
    "import sklearn\n",
    "import xgboost as xgb\n",
    "\n",
    "import plotly.offline as py\n",
    "py.init_notebook_mode(connected=True)\n",
    "import plotly.graph_objs as go\n",
    "import plotly.tools as tls\n",
    "\n",
    "import warnings\n",
    "warnings.filterwarnings('ignore')\n",
    "\n",
    "# Let's use the following base models\n",
    "from sklearn.ensemble import (RandomForestClassifier, AdaBoostClassifier, \n",
    "                              GradientBoostingClassifier, ExtraTreesClassifier)\n",
    "from sklearn.svm import SVC\n",
    "from sklearn.model_selection import KFold"
   ]
  },
  {
   "cell_type": "markdown",
   "metadata": {},
   "source": [
    "### Data Exploration and Feature Engineering"
   ]
  },
  {
   "cell_type": "code",
   "execution_count": 290,
   "metadata": {},
   "outputs": [
    {
     "data": {
      "text/html": [
       "<div>\n",
       "<style scoped>\n",
       "    .dataframe tbody tr th:only-of-type {\n",
       "        vertical-align: middle;\n",
       "    }\n",
       "\n",
       "    .dataframe tbody tr th {\n",
       "        vertical-align: top;\n",
       "    }\n",
       "\n",
       "    .dataframe thead th {\n",
       "        text-align: right;\n",
       "    }\n",
       "</style>\n",
       "<table border=\"1\" class=\"dataframe\">\n",
       "  <thead>\n",
       "    <tr style=\"text-align: right;\">\n",
       "      <th></th>\n",
       "      <th>PassengerId</th>\n",
       "      <th>Survived</th>\n",
       "      <th>Pclass</th>\n",
       "      <th>Name</th>\n",
       "      <th>Sex</th>\n",
       "      <th>Age</th>\n",
       "      <th>SibSp</th>\n",
       "      <th>Parch</th>\n",
       "      <th>Ticket</th>\n",
       "      <th>Fare</th>\n",
       "      <th>Cabin</th>\n",
       "      <th>Embarked</th>\n",
       "    </tr>\n",
       "  </thead>\n",
       "  <tbody>\n",
       "    <tr>\n",
       "      <th>0</th>\n",
       "      <td>1</td>\n",
       "      <td>0</td>\n",
       "      <td>3</td>\n",
       "      <td>Braund, Mr. Owen Harris</td>\n",
       "      <td>male</td>\n",
       "      <td>22.0</td>\n",
       "      <td>1</td>\n",
       "      <td>0</td>\n",
       "      <td>A/5 21171</td>\n",
       "      <td>7.2500</td>\n",
       "      <td>NaN</td>\n",
       "      <td>S</td>\n",
       "    </tr>\n",
       "    <tr>\n",
       "      <th>1</th>\n",
       "      <td>2</td>\n",
       "      <td>1</td>\n",
       "      <td>1</td>\n",
       "      <td>Cumings, Mrs. John Bradley (Florence Briggs Th...</td>\n",
       "      <td>female</td>\n",
       "      <td>38.0</td>\n",
       "      <td>1</td>\n",
       "      <td>0</td>\n",
       "      <td>PC 17599</td>\n",
       "      <td>71.2833</td>\n",
       "      <td>C85</td>\n",
       "      <td>C</td>\n",
       "    </tr>\n",
       "    <tr>\n",
       "      <th>2</th>\n",
       "      <td>3</td>\n",
       "      <td>1</td>\n",
       "      <td>3</td>\n",
       "      <td>Heikkinen, Miss. Laina</td>\n",
       "      <td>female</td>\n",
       "      <td>26.0</td>\n",
       "      <td>0</td>\n",
       "      <td>0</td>\n",
       "      <td>STON/O2. 3101282</td>\n",
       "      <td>7.9250</td>\n",
       "      <td>NaN</td>\n",
       "      <td>S</td>\n",
       "    </tr>\n",
       "    <tr>\n",
       "      <th>3</th>\n",
       "      <td>4</td>\n",
       "      <td>1</td>\n",
       "      <td>1</td>\n",
       "      <td>Futrelle, Mrs. Jacques Heath (Lily May Peel)</td>\n",
       "      <td>female</td>\n",
       "      <td>35.0</td>\n",
       "      <td>1</td>\n",
       "      <td>0</td>\n",
       "      <td>113803</td>\n",
       "      <td>53.1000</td>\n",
       "      <td>C123</td>\n",
       "      <td>S</td>\n",
       "    </tr>\n",
       "    <tr>\n",
       "      <th>4</th>\n",
       "      <td>5</td>\n",
       "      <td>0</td>\n",
       "      <td>3</td>\n",
       "      <td>Allen, Mr. William Henry</td>\n",
       "      <td>male</td>\n",
       "      <td>35.0</td>\n",
       "      <td>0</td>\n",
       "      <td>0</td>\n",
       "      <td>373450</td>\n",
       "      <td>8.0500</td>\n",
       "      <td>NaN</td>\n",
       "      <td>S</td>\n",
       "    </tr>\n",
       "  </tbody>\n",
       "</table>\n",
       "</div>"
      ],
      "text/plain": [
       "   PassengerId  Survived  Pclass  \\\n",
       "0            1         0       3   \n",
       "1            2         1       1   \n",
       "2            3         1       3   \n",
       "3            4         1       1   \n",
       "4            5         0       3   \n",
       "\n",
       "                                                Name     Sex   Age  SibSp  \\\n",
       "0                            Braund, Mr. Owen Harris    male  22.0      1   \n",
       "1  Cumings, Mrs. John Bradley (Florence Briggs Th...  female  38.0      1   \n",
       "2                             Heikkinen, Miss. Laina  female  26.0      0   \n",
       "3       Futrelle, Mrs. Jacques Heath (Lily May Peel)  female  35.0      1   \n",
       "4                           Allen, Mr. William Henry    male  35.0      0   \n",
       "\n",
       "   Parch            Ticket     Fare Cabin Embarked  \n",
       "0      0         A/5 21171   7.2500   NaN        S  \n",
       "1      0          PC 17599  71.2833   C85        C  \n",
       "2      0  STON/O2. 3101282   7.9250   NaN        S  \n",
       "3      0            113803  53.1000  C123        S  \n",
       "4      0            373450   8.0500   NaN        S  "
      ]
     },
     "execution_count": 290,
     "metadata": {},
     "output_type": "execute_result"
    }
   ],
   "source": [
    "# Load the train and test datasets\n",
    "\n",
    "train = pd.read_csv('Downloads/titanic/train.csv')\n",
    "test = pd.read_csv('Downloads/titanic/test.csv')\n",
    "final_test_result_survived = pd.read_csv('Downloads/titanic/gender_submission.csv')\n",
    "\n",
    "train.head(5)"
   ]
  },
  {
   "cell_type": "code",
   "execution_count": 291,
   "metadata": {},
   "outputs": [
    {
     "data": {
      "text/plain": [
       "(Index(['PassengerId', 'Survived', 'Pclass', 'Name', 'Sex', 'Age', 'SibSp',\n",
       "        'Parch', 'Ticket', 'Fare', 'Cabin', 'Embarked'],\n",
       "       dtype='object'),\n",
       " Index(['PassengerId', 'Pclass', 'Name', 'Sex', 'Age', 'SibSp', 'Parch',\n",
       "        'Ticket', 'Fare', 'Cabin', 'Embarked'],\n",
       "       dtype='object'))"
      ]
     },
     "execution_count": 291,
     "metadata": {},
     "output_type": "execute_result"
    }
   ],
   "source": [
    "train.columns, test.columns"
   ]
  },
  {
   "cell_type": "code",
   "execution_count": 292,
   "metadata": {},
   "outputs": [
    {
     "data": {
      "text/plain": [
       "((891, 12), (418, 11))"
      ]
     },
     "execution_count": 292,
     "metadata": {},
     "output_type": "execute_result"
    }
   ],
   "source": [
    "train.shape, test.shape"
   ]
  },
  {
   "cell_type": "code",
   "execution_count": 293,
   "metadata": {},
   "outputs": [],
   "source": [
    "# add the field 'Survived' to test dataset\n",
    "test = pd.merge(test, final_test_result_survived, how = \"inner\", on = 'PassengerId')"
   ]
  },
  {
   "cell_type": "code",
   "execution_count": 294,
   "metadata": {},
   "outputs": [
    {
     "data": {
      "text/plain": [
       "(418, 12)"
      ]
     },
     "execution_count": 294,
     "metadata": {},
     "output_type": "execute_result"
    }
   ],
   "source": [
    "test.shape"
   ]
  },
  {
   "cell_type": "code",
   "execution_count": 295,
   "metadata": {},
   "outputs": [
    {
     "data": {
      "text/html": [
       "<div>\n",
       "<style scoped>\n",
       "    .dataframe tbody tr th:only-of-type {\n",
       "        vertical-align: middle;\n",
       "    }\n",
       "\n",
       "    .dataframe tbody tr th {\n",
       "        vertical-align: top;\n",
       "    }\n",
       "\n",
       "    .dataframe thead th {\n",
       "        text-align: right;\n",
       "    }\n",
       "</style>\n",
       "<table border=\"1\" class=\"dataframe\">\n",
       "  <thead>\n",
       "    <tr style=\"text-align: right;\">\n",
       "      <th></th>\n",
       "      <th>PassengerId</th>\n",
       "      <th>Survived</th>\n",
       "      <th>Pclass</th>\n",
       "      <th>Age</th>\n",
       "      <th>SibSp</th>\n",
       "      <th>Parch</th>\n",
       "      <th>Fare</th>\n",
       "    </tr>\n",
       "  </thead>\n",
       "  <tbody>\n",
       "    <tr>\n",
       "      <th>count</th>\n",
       "      <td>891.000000</td>\n",
       "      <td>891.000000</td>\n",
       "      <td>891.000000</td>\n",
       "      <td>714.000000</td>\n",
       "      <td>891.000000</td>\n",
       "      <td>891.000000</td>\n",
       "      <td>891.000000</td>\n",
       "    </tr>\n",
       "    <tr>\n",
       "      <th>mean</th>\n",
       "      <td>446.000000</td>\n",
       "      <td>0.383838</td>\n",
       "      <td>2.308642</td>\n",
       "      <td>29.699118</td>\n",
       "      <td>0.523008</td>\n",
       "      <td>0.381594</td>\n",
       "      <td>32.204208</td>\n",
       "    </tr>\n",
       "    <tr>\n",
       "      <th>std</th>\n",
       "      <td>257.353842</td>\n",
       "      <td>0.486592</td>\n",
       "      <td>0.836071</td>\n",
       "      <td>14.526497</td>\n",
       "      <td>1.102743</td>\n",
       "      <td>0.806057</td>\n",
       "      <td>49.693429</td>\n",
       "    </tr>\n",
       "    <tr>\n",
       "      <th>min</th>\n",
       "      <td>1.000000</td>\n",
       "      <td>0.000000</td>\n",
       "      <td>1.000000</td>\n",
       "      <td>0.420000</td>\n",
       "      <td>0.000000</td>\n",
       "      <td>0.000000</td>\n",
       "      <td>0.000000</td>\n",
       "    </tr>\n",
       "    <tr>\n",
       "      <th>25%</th>\n",
       "      <td>223.500000</td>\n",
       "      <td>0.000000</td>\n",
       "      <td>2.000000</td>\n",
       "      <td>20.125000</td>\n",
       "      <td>0.000000</td>\n",
       "      <td>0.000000</td>\n",
       "      <td>7.910400</td>\n",
       "    </tr>\n",
       "    <tr>\n",
       "      <th>50%</th>\n",
       "      <td>446.000000</td>\n",
       "      <td>0.000000</td>\n",
       "      <td>3.000000</td>\n",
       "      <td>28.000000</td>\n",
       "      <td>0.000000</td>\n",
       "      <td>0.000000</td>\n",
       "      <td>14.454200</td>\n",
       "    </tr>\n",
       "    <tr>\n",
       "      <th>75%</th>\n",
       "      <td>668.500000</td>\n",
       "      <td>1.000000</td>\n",
       "      <td>3.000000</td>\n",
       "      <td>38.000000</td>\n",
       "      <td>1.000000</td>\n",
       "      <td>0.000000</td>\n",
       "      <td>31.000000</td>\n",
       "    </tr>\n",
       "    <tr>\n",
       "      <th>max</th>\n",
       "      <td>891.000000</td>\n",
       "      <td>1.000000</td>\n",
       "      <td>3.000000</td>\n",
       "      <td>80.000000</td>\n",
       "      <td>8.000000</td>\n",
       "      <td>6.000000</td>\n",
       "      <td>512.329200</td>\n",
       "    </tr>\n",
       "  </tbody>\n",
       "</table>\n",
       "</div>"
      ],
      "text/plain": [
       "       PassengerId    Survived      Pclass         Age       SibSp  \\\n",
       "count   891.000000  891.000000  891.000000  714.000000  891.000000   \n",
       "mean    446.000000    0.383838    2.308642   29.699118    0.523008   \n",
       "std     257.353842    0.486592    0.836071   14.526497    1.102743   \n",
       "min       1.000000    0.000000    1.000000    0.420000    0.000000   \n",
       "25%     223.500000    0.000000    2.000000   20.125000    0.000000   \n",
       "50%     446.000000    0.000000    3.000000   28.000000    0.000000   \n",
       "75%     668.500000    1.000000    3.000000   38.000000    1.000000   \n",
       "max     891.000000    1.000000    3.000000   80.000000    8.000000   \n",
       "\n",
       "            Parch        Fare  \n",
       "count  891.000000  891.000000  \n",
       "mean     0.381594   32.204208  \n",
       "std      0.806057   49.693429  \n",
       "min      0.000000    0.000000  \n",
       "25%      0.000000    7.910400  \n",
       "50%      0.000000   14.454200  \n",
       "75%      0.000000   31.000000  \n",
       "max      6.000000  512.329200  "
      ]
     },
     "execution_count": 295,
     "metadata": {},
     "output_type": "execute_result"
    }
   ],
   "source": [
    "train.describe()"
   ]
  },
  {
   "cell_type": "code",
   "execution_count": 296,
   "metadata": {},
   "outputs": [
    {
     "data": {
      "text/html": [
       "<div>\n",
       "<style scoped>\n",
       "    .dataframe tbody tr th:only-of-type {\n",
       "        vertical-align: middle;\n",
       "    }\n",
       "\n",
       "    .dataframe tbody tr th {\n",
       "        vertical-align: top;\n",
       "    }\n",
       "\n",
       "    .dataframe thead th {\n",
       "        text-align: right;\n",
       "    }\n",
       "</style>\n",
       "<table border=\"1\" class=\"dataframe\">\n",
       "  <thead>\n",
       "    <tr style=\"text-align: right;\">\n",
       "      <th></th>\n",
       "      <th>PassengerId</th>\n",
       "      <th>Pclass</th>\n",
       "      <th>Age</th>\n",
       "      <th>SibSp</th>\n",
       "      <th>Parch</th>\n",
       "      <th>Fare</th>\n",
       "      <th>Survived</th>\n",
       "    </tr>\n",
       "  </thead>\n",
       "  <tbody>\n",
       "    <tr>\n",
       "      <th>count</th>\n",
       "      <td>418.000000</td>\n",
       "      <td>418.000000</td>\n",
       "      <td>332.000000</td>\n",
       "      <td>418.000000</td>\n",
       "      <td>418.000000</td>\n",
       "      <td>417.000000</td>\n",
       "      <td>418.000000</td>\n",
       "    </tr>\n",
       "    <tr>\n",
       "      <th>mean</th>\n",
       "      <td>1100.500000</td>\n",
       "      <td>2.265550</td>\n",
       "      <td>30.272590</td>\n",
       "      <td>0.447368</td>\n",
       "      <td>0.392344</td>\n",
       "      <td>35.627188</td>\n",
       "      <td>0.363636</td>\n",
       "    </tr>\n",
       "    <tr>\n",
       "      <th>std</th>\n",
       "      <td>120.810458</td>\n",
       "      <td>0.841838</td>\n",
       "      <td>14.181209</td>\n",
       "      <td>0.896760</td>\n",
       "      <td>0.981429</td>\n",
       "      <td>55.907576</td>\n",
       "      <td>0.481622</td>\n",
       "    </tr>\n",
       "    <tr>\n",
       "      <th>min</th>\n",
       "      <td>892.000000</td>\n",
       "      <td>1.000000</td>\n",
       "      <td>0.170000</td>\n",
       "      <td>0.000000</td>\n",
       "      <td>0.000000</td>\n",
       "      <td>0.000000</td>\n",
       "      <td>0.000000</td>\n",
       "    </tr>\n",
       "    <tr>\n",
       "      <th>25%</th>\n",
       "      <td>996.250000</td>\n",
       "      <td>1.000000</td>\n",
       "      <td>21.000000</td>\n",
       "      <td>0.000000</td>\n",
       "      <td>0.000000</td>\n",
       "      <td>7.895800</td>\n",
       "      <td>0.000000</td>\n",
       "    </tr>\n",
       "    <tr>\n",
       "      <th>50%</th>\n",
       "      <td>1100.500000</td>\n",
       "      <td>3.000000</td>\n",
       "      <td>27.000000</td>\n",
       "      <td>0.000000</td>\n",
       "      <td>0.000000</td>\n",
       "      <td>14.454200</td>\n",
       "      <td>0.000000</td>\n",
       "    </tr>\n",
       "    <tr>\n",
       "      <th>75%</th>\n",
       "      <td>1204.750000</td>\n",
       "      <td>3.000000</td>\n",
       "      <td>39.000000</td>\n",
       "      <td>1.000000</td>\n",
       "      <td>0.000000</td>\n",
       "      <td>31.500000</td>\n",
       "      <td>1.000000</td>\n",
       "    </tr>\n",
       "    <tr>\n",
       "      <th>max</th>\n",
       "      <td>1309.000000</td>\n",
       "      <td>3.000000</td>\n",
       "      <td>76.000000</td>\n",
       "      <td>8.000000</td>\n",
       "      <td>9.000000</td>\n",
       "      <td>512.329200</td>\n",
       "      <td>1.000000</td>\n",
       "    </tr>\n",
       "  </tbody>\n",
       "</table>\n",
       "</div>"
      ],
      "text/plain": [
       "       PassengerId      Pclass         Age       SibSp       Parch  \\\n",
       "count   418.000000  418.000000  332.000000  418.000000  418.000000   \n",
       "mean   1100.500000    2.265550   30.272590    0.447368    0.392344   \n",
       "std     120.810458    0.841838   14.181209    0.896760    0.981429   \n",
       "min     892.000000    1.000000    0.170000    0.000000    0.000000   \n",
       "25%     996.250000    1.000000   21.000000    0.000000    0.000000   \n",
       "50%    1100.500000    3.000000   27.000000    0.000000    0.000000   \n",
       "75%    1204.750000    3.000000   39.000000    1.000000    0.000000   \n",
       "max    1309.000000    3.000000   76.000000    8.000000    9.000000   \n",
       "\n",
       "             Fare    Survived  \n",
       "count  417.000000  418.000000  \n",
       "mean    35.627188    0.363636  \n",
       "std     55.907576    0.481622  \n",
       "min      0.000000    0.000000  \n",
       "25%      7.895800    0.000000  \n",
       "50%     14.454200    0.000000  \n",
       "75%     31.500000    1.000000  \n",
       "max    512.329200    1.000000  "
      ]
     },
     "execution_count": 296,
     "metadata": {},
     "output_type": "execute_result"
    }
   ],
   "source": [
    "test.describe()"
   ]
  },
  {
   "cell_type": "code",
   "execution_count": 297,
   "metadata": {},
   "outputs": [
    {
     "data": {
      "text/plain": [
       "[('Name', 891),\n",
       " ('PassengerId', 891),\n",
       " ('Ticket', 681),\n",
       " ('Fare', 248),\n",
       " ('Cabin', 147),\n",
       " ('Age', 88),\n",
       " ('Parch', 7),\n",
       " ('SibSp', 7),\n",
       " ('Embarked', 3),\n",
       " ('Pclass', 3),\n",
       " ('Sex', 2),\n",
       " ('Survived', 2)]"
      ]
     },
     "execution_count": 297,
     "metadata": {},
     "output_type": "execute_result"
    }
   ],
   "source": [
    "# here the following columns cannot be used directly in predicting the Survival of a person as it won't be helpful -\n",
    "# - so it has to be transformed:\n",
    "# Name, PassengerId, Ticket, Cabin\n",
    "\n",
    "# lets look at the null values and unique values in each of the variable\n",
    "unique_count = []\n",
    "for i in train.columns:\n",
    "    unique_count.append((i, train[i].nunique()))\n",
    "\n",
    "sorted(unique_count, key=lambda x:(-x[1],x[0]))\n"
   ]
  },
  {
   "cell_type": "code",
   "execution_count": 298,
   "metadata": {},
   "outputs": [
    {
     "data": {
      "text/plain": [
       "0                              Braund, Mr. Owen Harris\n",
       "1    Cumings, Mrs. John Bradley (Florence Briggs Th...\n",
       "2                               Heikkinen, Miss. Laina\n",
       "3         Futrelle, Mrs. Jacques Heath (Lily May Peel)\n",
       "4                             Allen, Mr. William Henry\n",
       "5                                     Moran, Mr. James\n",
       "6                              McCarthy, Mr. Timothy J\n",
       "7                       Palsson, Master. Gosta Leonard\n",
       "8    Johnson, Mrs. Oscar W (Elisabeth Vilhelmina Berg)\n",
       "9                  Nasser, Mrs. Nicholas (Adele Achem)\n",
       "Name: Name, dtype: object"
      ]
     },
     "execution_count": 298,
     "metadata": {},
     "output_type": "execute_result"
    }
   ],
   "source": [
    "train['Name'].head(10)"
   ]
  },
  {
   "cell_type": "code",
   "execution_count": 299,
   "metadata": {},
   "outputs": [
    {
     "name": "stdout",
     "output_type": "stream",
     "text": [
      "<_sre.SRE_Match object; span=(8, 11), match='Mr.'>\n",
      "<_sre.SRE_Match object; span=(8, 12), match='Mrs.'>\n",
      "<_sre.SRE_Match object; span=(11, 16), match='Miss.'>\n",
      "<_sre.SRE_Match object; span=(10, 13), match='Mr.'>\n"
     ]
    }
   ],
   "source": [
    "# from the column 'Name' we can try to extract the titles so that \n",
    "print(re.search('([A-Za-z]+)\\.', 'Braund, Mr. Owen Harris'))\n",
    "print(re.search('([A-Za-z]+)\\.', 'Nasser, Mrs. Nicholas (Adele Achem)'))\n",
    "print(re.search('([A-Za-z]+)\\.', 'Heikkinen, Miss. Laina'))\n",
    "print(re.search('([A-Za-z]+)\\.', 'McCarthy, Mr. Timothy J'))\n"
   ]
  },
  {
   "cell_type": "code",
   "execution_count": 300,
   "metadata": {},
   "outputs": [
    {
     "data": {
      "text/plain": [
       "PassengerId      0\n",
       "Survived         0\n",
       "Pclass           0\n",
       "Name             0\n",
       "Sex              0\n",
       "Age            177\n",
       "SibSp            0\n",
       "Parch            0\n",
       "Ticket           0\n",
       "Fare             0\n",
       "Cabin          687\n",
       "Embarked         2\n",
       "dtype: int64"
      ]
     },
     "execution_count": 300,
     "metadata": {},
     "output_type": "execute_result"
    }
   ],
   "source": [
    "train.isna().sum()"
   ]
  },
  {
   "cell_type": "code",
   "execution_count": 301,
   "metadata": {},
   "outputs": [
    {
     "data": {
      "text/plain": [
       "[('Cabin', 77.1),\n",
       " ('Age', 19.87),\n",
       " ('Embarked', 0.22),\n",
       " ('Fare', 0.0),\n",
       " ('Name', 0.0),\n",
       " ('Parch', 0.0),\n",
       " ('PassengerId', 0.0),\n",
       " ('Pclass', 0.0),\n",
       " ('Sex', 0.0),\n",
       " ('SibSp', 0.0),\n",
       " ('Survived', 0.0),\n",
       " ('Ticket', 0.0)]"
      ]
     },
     "execution_count": 301,
     "metadata": {},
     "output_type": "execute_result"
    }
   ],
   "source": [
    "# lets look at the null values in each variable\n",
    "\n",
    "train.isna().sum()\n",
    "# from the following data we can see that the column \"Age\" has 177 missing values \n",
    "# and column \"Cabin\" has 687 missing values out of 891 passengers\n",
    "\n",
    "# % of missing values\n",
    "pct_missing = []\n",
    "for i in train.columns:\n",
    "    pct_missing.append((i, round(100.00*train[i].isna().sum()/train.shape[0], 2)))\n",
    "\n",
    "sorted(pct_missing, key = lambda x:(-x[1],x[0]))"
   ]
  },
  {
   "cell_type": "code",
   "execution_count": 302,
   "metadata": {},
   "outputs": [
    {
     "data": {
      "text/plain": [
       "S    644\n",
       "C    168\n",
       "Q     77\n",
       "Name: Embarked, dtype: int64"
      ]
     },
     "execution_count": 302,
     "metadata": {},
     "output_type": "execute_result"
    }
   ],
   "source": [
    "# Since the field 'Embarked' is discrete, lets measure the frequency of each value in it\n",
    "train['Embarked'].value_counts()\n",
    "# the value 'S' is repeating most of the times hence we can try to fill the missing values with 'S'"
   ]
  },
  {
   "cell_type": "code",
   "execution_count": 303,
   "metadata": {},
   "outputs": [
    {
     "data": {
      "text/plain": [
       "<matplotlib.axes._subplots.AxesSubplot at 0x1c2936d3c8>"
      ]
     },
     "execution_count": 303,
     "metadata": {},
     "output_type": "execute_result"
    },
    {
     "data": {
      "image/png": "[encoded data removed]",
      "text/plain": [
       "<Figure size 432x288 with 1 Axes>"
      ]
     },
     "metadata": {
      "needs_background": "light"
     },
     "output_type": "display_data"
    }
   ],
   "source": [
    "train['Fare'].hist()"
   ]
  },
  {
   "cell_type": "code",
   "execution_count": 304,
   "metadata": {},
   "outputs": [
    {
     "data": {
      "text/plain": [
       "<matplotlib.axes._subplots.AxesSubplot at 0x1c293b09b0>"
      ]
     },
     "execution_count": 304,
     "metadata": {},
     "output_type": "execute_result"
    },
    {
     "data": {
      "image/png": "[encoded data removed]",
      "text/plain": [
       "<Figure size 432x288 with 1 Axes>"
      ]
     },
     "metadata": {
      "needs_background": "light"
     },
     "output_type": "display_data"
    }
   ],
   "source": [
    "test['Fare'].hist()"
   ]
  },
  {
   "cell_type": "code",
   "execution_count": 305,
   "metadata": {},
   "outputs": [
    {
     "data": {
      "text/plain": [
       "<matplotlib.axes._subplots.AxesSubplot at 0x1c257fcda0>"
      ]
     },
     "execution_count": 305,
     "metadata": {},
     "output_type": "execute_result"
    },
    {
     "data": {
      "image/png": "[encoded data removed]",
      "text/plain": [
       "<Figure size 432x288 with 1 Axes>"
      ]
     },
     "metadata": {
      "needs_background": "light"
     },
     "output_type": "display_data"
    }
   ],
   "source": [
    "train['Age'].hist()"
   ]
  },
  {
   "cell_type": "code",
   "execution_count": 306,
   "metadata": {},
   "outputs": [
    {
     "data": {
      "text/plain": [
       "<matplotlib.axes._subplots.AxesSubplot at 0x1c2616e668>"
      ]
     },
     "execution_count": 306,
     "metadata": {},
     "output_type": "execute_result"
    },
    {
     "data": {
      "image/png": "[encoded data removed]",
      "text/plain": [
       "<Figure size 432x288 with 1 Axes>"
      ]
     },
     "metadata": {
      "needs_background": "light"
     },
     "output_type": "display_data"
    }
   ],
   "source": [
    "test['Age'].hist()"
   ]
  },
  {
   "cell_type": "code",
   "execution_count": 307,
   "metadata": {},
   "outputs": [],
   "source": [
    "# lets try to do some feature engineering based on the above analysis\n",
    "\n",
    "# for column 'Name' lets try to add the length of it\n",
    "train['Name_length'] = train['Name'].apply(len)\n",
    "test['Name_length'] = test['Name'].apply(len)\n",
    "\n",
    "# since we have 79% missing values for the field 'Cabin', lets try to add a feature whether the customer has cabin or not\n",
    "train['Has_Cabin'] = train['Cabin'].apply(lambda x:0 if type(x) == float else 1)\n",
    "test['Has_Cabin'] = test[\"Cabin\"].apply(lambda x: 0 if type(x) == float else 1)\n",
    "\n",
    "# creating a list to store both train and test datasets in a list\n",
    "full_data = [train, test]\n",
    "\n",
    "# lets create a new feature called 'FamilySize' from the combination of fields 'SibSp' and 'Parch'\n",
    "for data in full_data:\n",
    "    data['FamilySize'] = data['SibSp'] + data['Parch'] + 1\n",
    "    \n",
    "# create a new feature IsAlone from FamilySize\n",
    "for data in full_data:\n",
    "    data['IsAlone'] = 0\n",
    "    data.loc[data['FamilySize'] == 1, 'IsAlone'] = 1\n",
    "    \n",
    "# As the column 'Embarked' has 22% null values and the most frequency value is 'S'. Lets try to fill it.\n",
    "for data in full_data:\n",
    "    data['Embarked'] = data['Embarked'].fillna('S')\n",
    "    \n",
    "# since the \"Fare\" is ranging from $0 to $500. Lets create a discrete variable based on the 4 quantiles\n",
    "for data in full_data:\n",
    "    data['CategoricalFare'] = pd.qcut(data['Fare'], 4, duplicates='drop')\n",
    "    \n",
    "# the column 'Age' has around 20% null values. Lets try to fill them using the normal distribution mean and standard - \n",
    "# - deviation method\n",
    "for data in full_data:\n",
    "    age_avg = data['Age'].mean()\n",
    "    age_std = data['Age'].std()\n",
    "    age_null_count = data['Age'].isnull().sum()\n",
    "    age_null_random_list = np.random.randint(age_avg - age_std, age_avg + age_std, size=age_null_count)\n",
    "    data['Age'][np.isnan(data['Age'])] = age_null_random_list\n",
    "    data['Age'] = data['Age'].astype(int)\n",
    "    \n",
    "    # lets create a categorical age feature as well in 5 buckets\n",
    "    data['CategoricalAge'] = pd.cut(data['Age'], 5)\n",
    "    \n",
    "# from the passenger names we can extract their titles and this might be helpful for us\n",
    "def get_title(name):\n",
    "    title_search = re.search(' ([A-Za-z]+)\\.', name)\n",
    "    # If the title exists, extract and return it.\n",
    "    if title_search:\n",
    "        return title_search.group(1)\n",
    "    return \"\"\n",
    "\n",
    "# Create a new feature Title, containing the titles of passenger names\n",
    "for data in full_data:\n",
    "    data['Title'] = data['Name'].apply(get_title)\n",
    "    \n",
    "# Group all non-common titles into one single grouping \"Rare\"\n",
    "for data in full_data:\n",
    "    data['Title'] = data['Title'].replace(['Lady', 'Countess','Capt', 'Col','Don', 'Dr', \n",
    "                                           'Major', 'Rev', 'Sir', 'Jonkheer', 'Dona'], 'Rare')\n",
    "    data['Title'] = data['Title'].replace('Mlle', 'Miss')\n",
    "    data['Title'] = data['Title'].replace('Ms', 'Miss')\n",
    "    data['Title'] = data['Title'].replace('Mme', 'Mrs')\n",
    "\n",
    "# mapping the columns : 'Sex', 'Title', 'Embarked', 'Fare', and 'Age'\n",
    "# the mapped columns 'Sex', 'Title', 'Embarked' are still discrete variables\n",
    "# the mapped columns 'Fare' and 'Age' are going to be Ordinal\n",
    "\n",
    "for data in full_data:\n",
    "    # Mapping Sex\n",
    "    data['Sex'] = data['Sex'].map( {'female': 0, 'male': 1} )\n",
    "    #data['Sex'] = data['Sex'].astype(int)\n",
    "    \n",
    "    # Mapping titles\n",
    "    title_mapping = {\"Mr\": 1, \"Miss\": 2, \"Mrs\": 3, \"Master\": 4, \"Rare\": 5}\n",
    "    data['Title'] = data['Title'].map(title_mapping)\n",
    "    data['Title'] = data['Title'].fillna(0)\n",
    "    \n",
    "    # Mapping Embarked\n",
    "    data['Embarked'] = data['Embarked'].map( {'S': 0, 'C': 1, 'Q': 2} )\n",
    "    #print(list(data['Embarked']))\n",
    "    \n",
    "    # Mapping Fare\n",
    "    data.loc[ data['Fare'] <= 7.91, 'Fare'] = 0\n",
    "    data.loc[(data['Fare'] > 7.91) & (data['Fare'] <= 14.454), 'Fare'] = 1\n",
    "    data.loc[(data['Fare'] > 14.454) & (data['Fare'] <= 31), 'Fare']   = 2\n",
    "    data.loc[ data['Fare'] > 31, 'Fare'] = 3\n",
    "    #print(list(data['Fare']))\n",
    "    data['Fare'] = data['Fare']\n",
    "    \n",
    "    # Mapping Age\n",
    "    data.loc[ data['Age'] <= 16, 'Age'] = 0\n",
    "    data.loc[(data['Age'] > 16) & (data['Age'] <= 32), 'Age'] = 1\n",
    "    data.loc[(data['Age'] > 32) & (data['Age'] <= 48), 'Age'] = 2\n",
    "    data.loc[(data['Age'] > 48) & (data['Age'] <= 64), 'Age'] = 3\n",
    "    data.loc[ data['Age'] > 64, 'Age'] = 4 \n"
   ]
  },
  {
   "cell_type": "code",
   "execution_count": 308,
   "metadata": {},
   "outputs": [
    {
     "data": {
      "text/plain": [
       "Index(['PassengerId', 'Survived', 'Pclass', 'Name', 'Sex', 'Age', 'SibSp',\n",
       "       'Parch', 'Ticket', 'Fare', 'Cabin', 'Embarked', 'Name_length',\n",
       "       'Has_Cabin', 'FamilySize', 'IsAlone', 'CategoricalFare',\n",
       "       'CategoricalAge', 'Title'],\n",
       "      dtype='object')"
      ]
     },
     "execution_count": 308,
     "metadata": {},
     "output_type": "execute_result"
    }
   ],
   "source": [
    "train.columns\n",
    "\n",
    "# we have successfully added all the potential columns from the above analysis. The new columns are as follows:\n",
    "# 'Name_length', 'Has_Cabin', 'FamilySize', 'IsAlone', 'CategoricalFare', 'CategoricalAge', 'Title'"
   ]
  },
  {
   "cell_type": "code",
   "execution_count": 309,
   "metadata": {},
   "outputs": [
    {
     "data": {
      "text/html": [
       "<div>\n",
       "<style scoped>\n",
       "    .dataframe tbody tr th:only-of-type {\n",
       "        vertical-align: middle;\n",
       "    }\n",
       "\n",
       "    .dataframe tbody tr th {\n",
       "        vertical-align: top;\n",
       "    }\n",
       "\n",
       "    .dataframe thead th {\n",
       "        text-align: right;\n",
       "    }\n",
       "</style>\n",
       "<table border=\"1\" class=\"dataframe\">\n",
       "  <thead>\n",
       "    <tr style=\"text-align: right;\">\n",
       "      <th></th>\n",
       "      <th>PassengerId</th>\n",
       "      <th>Survived</th>\n",
       "      <th>Pclass</th>\n",
       "      <th>Name</th>\n",
       "      <th>Sex</th>\n",
       "      <th>Age</th>\n",
       "      <th>SibSp</th>\n",
       "      <th>Parch</th>\n",
       "      <th>Ticket</th>\n",
       "      <th>Fare</th>\n",
       "      <th>Cabin</th>\n",
       "      <th>Embarked</th>\n",
       "      <th>Name_length</th>\n",
       "      <th>Has_Cabin</th>\n",
       "      <th>FamilySize</th>\n",
       "      <th>IsAlone</th>\n",
       "      <th>CategoricalFare</th>\n",
       "      <th>CategoricalAge</th>\n",
       "      <th>Title</th>\n",
       "    </tr>\n",
       "  </thead>\n",
       "  <tbody>\n",
       "    <tr>\n",
       "      <th>0</th>\n",
       "      <td>1</td>\n",
       "      <td>0</td>\n",
       "      <td>3</td>\n",
       "      <td>Braund, Mr. Owen Harris</td>\n",
       "      <td>1</td>\n",
       "      <td>1</td>\n",
       "      <td>1</td>\n",
       "      <td>0</td>\n",
       "      <td>A/5 21171</td>\n",
       "      <td>0.0</td>\n",
       "      <td>NaN</td>\n",
       "      <td>0</td>\n",
       "      <td>23</td>\n",
       "      <td>0</td>\n",
       "      <td>2</td>\n",
       "      <td>0</td>\n",
       "      <td>(-0.001, 7.91]</td>\n",
       "      <td>(16.0, 32.0]</td>\n",
       "      <td>1</td>\n",
       "    </tr>\n",
       "    <tr>\n",
       "      <th>1</th>\n",
       "      <td>2</td>\n",
       "      <td>1</td>\n",
       "      <td>1</td>\n",
       "      <td>Cumings, Mrs. John Bradley (Florence Briggs Th...</td>\n",
       "      <td>0</td>\n",
       "      <td>2</td>\n",
       "      <td>1</td>\n",
       "      <td>0</td>\n",
       "      <td>PC 17599</td>\n",
       "      <td>3.0</td>\n",
       "      <td>C85</td>\n",
       "      <td>1</td>\n",
       "      <td>51</td>\n",
       "      <td>1</td>\n",
       "      <td>2</td>\n",
       "      <td>0</td>\n",
       "      <td>(31.0, 512.329]</td>\n",
       "      <td>(32.0, 48.0]</td>\n",
       "      <td>3</td>\n",
       "    </tr>\n",
       "    <tr>\n",
       "      <th>2</th>\n",
       "      <td>3</td>\n",
       "      <td>1</td>\n",
       "      <td>3</td>\n",
       "      <td>Heikkinen, Miss. Laina</td>\n",
       "      <td>0</td>\n",
       "      <td>1</td>\n",
       "      <td>0</td>\n",
       "      <td>0</td>\n",
       "      <td>STON/O2. 3101282</td>\n",
       "      <td>1.0</td>\n",
       "      <td>NaN</td>\n",
       "      <td>0</td>\n",
       "      <td>22</td>\n",
       "      <td>0</td>\n",
       "      <td>1</td>\n",
       "      <td>1</td>\n",
       "      <td>(7.91, 14.454]</td>\n",
       "      <td>(16.0, 32.0]</td>\n",
       "      <td>2</td>\n",
       "    </tr>\n",
       "    <tr>\n",
       "      <th>3</th>\n",
       "      <td>4</td>\n",
       "      <td>1</td>\n",
       "      <td>1</td>\n",
       "      <td>Futrelle, Mrs. Jacques Heath (Lily May Peel)</td>\n",
       "      <td>0</td>\n",
       "      <td>2</td>\n",
       "      <td>1</td>\n",
       "      <td>0</td>\n",
       "      <td>113803</td>\n",
       "      <td>3.0</td>\n",
       "      <td>C123</td>\n",
       "      <td>0</td>\n",
       "      <td>44</td>\n",
       "      <td>1</td>\n",
       "      <td>2</td>\n",
       "      <td>0</td>\n",
       "      <td>(31.0, 512.329]</td>\n",
       "      <td>(32.0, 48.0]</td>\n",
       "      <td>3</td>\n",
       "    </tr>\n",
       "    <tr>\n",
       "      <th>4</th>\n",
       "      <td>5</td>\n",
       "      <td>0</td>\n",
       "      <td>3</td>\n",
       "      <td>Allen, Mr. William Henry</td>\n",
       "      <td>1</td>\n",
       "      <td>2</td>\n",
       "      <td>0</td>\n",
       "      <td>0</td>\n",
       "      <td>373450</td>\n",
       "      <td>1.0</td>\n",
       "      <td>NaN</td>\n",
       "      <td>0</td>\n",
       "      <td>24</td>\n",
       "      <td>0</td>\n",
       "      <td>1</td>\n",
       "      <td>1</td>\n",
       "      <td>(7.91, 14.454]</td>\n",
       "      <td>(32.0, 48.0]</td>\n",
       "      <td>1</td>\n",
       "    </tr>\n",
       "  </tbody>\n",
       "</table>\n",
       "</div>"
      ],
      "text/plain": [
       "   PassengerId  Survived  Pclass  \\\n",
       "0            1         0       3   \n",
       "1            2         1       1   \n",
       "2            3         1       3   \n",
       "3            4         1       1   \n",
       "4            5         0       3   \n",
       "\n",
       "                                                Name  Sex  Age  SibSp  Parch  \\\n",
       "0                            Braund, Mr. Owen Harris    1    1      1      0   \n",
       "1  Cumings, Mrs. John Bradley (Florence Briggs Th...    0    2      1      0   \n",
       "2                             Heikkinen, Miss. Laina    0    1      0      0   \n",
       "3       Futrelle, Mrs. Jacques Heath (Lily May Peel)    0    2      1      0   \n",
       "4                           Allen, Mr. William Henry    1    2      0      0   \n",
       "\n",
       "             Ticket  Fare Cabin  Embarked  Name_length  Has_Cabin  FamilySize  \\\n",
       "0         A/5 21171   0.0   NaN         0           23          0           2   \n",
       "1          PC 17599   3.0   C85         1           51          1           2   \n",
       "2  STON/O2. 3101282   1.0   NaN         0           22          0           1   \n",
       "3            113803   3.0  C123         0           44          1           2   \n",
       "4            373450   1.0   NaN         0           24          0           1   \n",
       "\n",
       "   IsAlone  CategoricalFare CategoricalAge  Title  \n",
       "0        0   (-0.001, 7.91]   (16.0, 32.0]      1  \n",
       "1        0  (31.0, 512.329]   (32.0, 48.0]      3  \n",
       "2        1   (7.91, 14.454]   (16.0, 32.0]      2  \n",
       "3        0  (31.0, 512.329]   (32.0, 48.0]      3  \n",
       "4        1   (7.91, 14.454]   (32.0, 48.0]      1  "
      ]
     },
     "execution_count": 309,
     "metadata": {},
     "output_type": "execute_result"
    }
   ],
   "source": [
    "train.head()"
   ]
  },
  {
   "cell_type": "code",
   "execution_count": 310,
   "metadata": {},
   "outputs": [
    {
     "data": {
      "text/html": [
       "<div>\n",
       "<style scoped>\n",
       "    .dataframe tbody tr th:only-of-type {\n",
       "        vertical-align: middle;\n",
       "    }\n",
       "\n",
       "    .dataframe tbody tr th {\n",
       "        vertical-align: top;\n",
       "    }\n",
       "\n",
       "    .dataframe thead th {\n",
       "        text-align: right;\n",
       "    }\n",
       "</style>\n",
       "<table border=\"1\" class=\"dataframe\">\n",
       "  <thead>\n",
       "    <tr style=\"text-align: right;\">\n",
       "      <th></th>\n",
       "      <th>PassengerId</th>\n",
       "      <th>Survived</th>\n",
       "      <th>Pclass</th>\n",
       "      <th>Sex</th>\n",
       "      <th>Age</th>\n",
       "      <th>SibSp</th>\n",
       "      <th>Parch</th>\n",
       "      <th>Fare</th>\n",
       "      <th>Embarked</th>\n",
       "      <th>Name_length</th>\n",
       "      <th>Has_Cabin</th>\n",
       "      <th>FamilySize</th>\n",
       "      <th>IsAlone</th>\n",
       "      <th>Title</th>\n",
       "    </tr>\n",
       "  </thead>\n",
       "  <tbody>\n",
       "    <tr>\n",
       "      <th>count</th>\n",
       "      <td>891.000000</td>\n",
       "      <td>891.000000</td>\n",
       "      <td>891.000000</td>\n",
       "      <td>891.000000</td>\n",
       "      <td>891.000000</td>\n",
       "      <td>891.000000</td>\n",
       "      <td>891.000000</td>\n",
       "      <td>891.000000</td>\n",
       "      <td>891.000000</td>\n",
       "      <td>891.000000</td>\n",
       "      <td>891.000000</td>\n",
       "      <td>891.000000</td>\n",
       "      <td>891.000000</td>\n",
       "      <td>891.000000</td>\n",
       "    </tr>\n",
       "    <tr>\n",
       "      <th>mean</th>\n",
       "      <td>446.000000</td>\n",
       "      <td>0.383838</td>\n",
       "      <td>2.308642</td>\n",
       "      <td>0.647587</td>\n",
       "      <td>1.341190</td>\n",
       "      <td>0.523008</td>\n",
       "      <td>0.381594</td>\n",
       "      <td>1.505051</td>\n",
       "      <td>0.361392</td>\n",
       "      <td>26.965208</td>\n",
       "      <td>0.228956</td>\n",
       "      <td>1.904602</td>\n",
       "      <td>0.602694</td>\n",
       "      <td>1.728395</td>\n",
       "    </tr>\n",
       "    <tr>\n",
       "      <th>std</th>\n",
       "      <td>257.353842</td>\n",
       "      <td>0.486592</td>\n",
       "      <td>0.836071</td>\n",
       "      <td>0.477990</td>\n",
       "      <td>0.845529</td>\n",
       "      <td>1.102743</td>\n",
       "      <td>0.806057</td>\n",
       "      <td>1.118148</td>\n",
       "      <td>0.635673</td>\n",
       "      <td>9.281607</td>\n",
       "      <td>0.420397</td>\n",
       "      <td>1.613459</td>\n",
       "      <td>0.489615</td>\n",
       "      <td>1.030039</td>\n",
       "    </tr>\n",
       "    <tr>\n",
       "      <th>min</th>\n",
       "      <td>1.000000</td>\n",
       "      <td>0.000000</td>\n",
       "      <td>1.000000</td>\n",
       "      <td>0.000000</td>\n",
       "      <td>0.000000</td>\n",
       "      <td>0.000000</td>\n",
       "      <td>0.000000</td>\n",
       "      <td>0.000000</td>\n",
       "      <td>0.000000</td>\n",
       "      <td>12.000000</td>\n",
       "      <td>0.000000</td>\n",
       "      <td>1.000000</td>\n",
       "      <td>0.000000</td>\n",
       "      <td>1.000000</td>\n",
       "    </tr>\n",
       "    <tr>\n",
       "      <th>25%</th>\n",
       "      <td>223.500000</td>\n",
       "      <td>0.000000</td>\n",
       "      <td>2.000000</td>\n",
       "      <td>0.000000</td>\n",
       "      <td>1.000000</td>\n",
       "      <td>0.000000</td>\n",
       "      <td>0.000000</td>\n",
       "      <td>0.500000</td>\n",
       "      <td>0.000000</td>\n",
       "      <td>20.000000</td>\n",
       "      <td>0.000000</td>\n",
       "      <td>1.000000</td>\n",
       "      <td>0.000000</td>\n",
       "      <td>1.000000</td>\n",
       "    </tr>\n",
       "    <tr>\n",
       "      <th>50%</th>\n",
       "      <td>446.000000</td>\n",
       "      <td>0.000000</td>\n",
       "      <td>3.000000</td>\n",
       "      <td>1.000000</td>\n",
       "      <td>1.000000</td>\n",
       "      <td>0.000000</td>\n",
       "      <td>0.000000</td>\n",
       "      <td>2.000000</td>\n",
       "      <td>0.000000</td>\n",
       "      <td>25.000000</td>\n",
       "      <td>0.000000</td>\n",
       "      <td>1.000000</td>\n",
       "      <td>1.000000</td>\n",
       "      <td>1.000000</td>\n",
       "    </tr>\n",
       "    <tr>\n",
       "      <th>75%</th>\n",
       "      <td>668.500000</td>\n",
       "      <td>1.000000</td>\n",
       "      <td>3.000000</td>\n",
       "      <td>1.000000</td>\n",
       "      <td>2.000000</td>\n",
       "      <td>1.000000</td>\n",
       "      <td>0.000000</td>\n",
       "      <td>2.000000</td>\n",
       "      <td>1.000000</td>\n",
       "      <td>30.000000</td>\n",
       "      <td>0.000000</td>\n",
       "      <td>2.000000</td>\n",
       "      <td>1.000000</td>\n",
       "      <td>2.000000</td>\n",
       "    </tr>\n",
       "    <tr>\n",
       "      <th>max</th>\n",
       "      <td>891.000000</td>\n",
       "      <td>1.000000</td>\n",
       "      <td>3.000000</td>\n",
       "      <td>1.000000</td>\n",
       "      <td>4.000000</td>\n",
       "      <td>8.000000</td>\n",
       "      <td>6.000000</td>\n",
       "      <td>3.000000</td>\n",
       "      <td>2.000000</td>\n",
       "      <td>82.000000</td>\n",
       "      <td>1.000000</td>\n",
       "      <td>11.000000</td>\n",
       "      <td>1.000000</td>\n",
       "      <td>5.000000</td>\n",
       "    </tr>\n",
       "  </tbody>\n",
       "</table>\n",
       "</div>"
      ],
      "text/plain": [
       "       PassengerId    Survived      Pclass         Sex         Age  \\\n",
       "count   891.000000  891.000000  891.000000  891.000000  891.000000   \n",
       "mean    446.000000    0.383838    2.308642    0.647587    1.341190   \n",
       "std     257.353842    0.486592    0.836071    0.477990    0.845529   \n",
       "min       1.000000    0.000000    1.000000    0.000000    0.000000   \n",
       "25%     223.500000    0.000000    2.000000    0.000000    1.000000   \n",
       "50%     446.000000    0.000000    3.000000    1.000000    1.000000   \n",
       "75%     668.500000    1.000000    3.000000    1.000000    2.000000   \n",
       "max     891.000000    1.000000    3.000000    1.000000    4.000000   \n",
       "\n",
       "            SibSp       Parch        Fare    Embarked  Name_length  \\\n",
       "count  891.000000  891.000000  891.000000  891.000000   891.000000   \n",
       "mean     0.523008    0.381594    1.505051    0.361392    26.965208   \n",
       "std      1.102743    0.806057    1.118148    0.635673     9.281607   \n",
       "min      0.000000    0.000000    0.000000    0.000000    12.000000   \n",
       "25%      0.000000    0.000000    0.500000    0.000000    20.000000   \n",
       "50%      0.000000    0.000000    2.000000    0.000000    25.000000   \n",
       "75%      1.000000    0.000000    2.000000    1.000000    30.000000   \n",
       "max      8.000000    6.000000    3.000000    2.000000    82.000000   \n",
       "\n",
       "        Has_Cabin  FamilySize     IsAlone       Title  \n",
       "count  891.000000  891.000000  891.000000  891.000000  \n",
       "mean     0.228956    1.904602    0.602694    1.728395  \n",
       "std      0.420397    1.613459    0.489615    1.030039  \n",
       "min      0.000000    1.000000    0.000000    1.000000  \n",
       "25%      0.000000    1.000000    0.000000    1.000000  \n",
       "50%      0.000000    1.000000    1.000000    1.000000  \n",
       "75%      0.000000    2.000000    1.000000    2.000000  \n",
       "max      1.000000   11.000000    1.000000    5.000000  "
      ]
     },
     "execution_count": 310,
     "metadata": {},
     "output_type": "execute_result"
    }
   ],
   "source": [
    "train.describe()"
   ]
  },
  {
   "cell_type": "code",
   "execution_count": 311,
   "metadata": {},
   "outputs": [
    {
     "name": "stdout",
     "output_type": "stream",
     "text": [
      "('PassengerId', 891)\n",
      "('Survived', 2)\n",
      "('Pclass', 3)\n",
      "('Name', 891)\n",
      "('Sex', 2)\n",
      "('Age', 5)\n",
      "('SibSp', 7)\n",
      "('Parch', 7)\n",
      "('Ticket', 681)\n",
      "('Fare', 4)\n",
      "('Cabin', 147)\n",
      "('Embarked', 3)\n",
      "('Name_length', 50)\n",
      "('Has_Cabin', 2)\n",
      "('FamilySize', 9)\n",
      "('IsAlone', 2)\n",
      "('CategoricalFare', 4)\n",
      "('CategoricalAge', 5)\n",
      "('Title', 5)\n"
     ]
    }
   ],
   "source": [
    "for i in train.columns:\n",
    "    print((i, train[i].nunique()))"
   ]
  },
  {
   "cell_type": "code",
   "execution_count": 312,
   "metadata": {},
   "outputs": [],
   "source": [
    "# Now we can remove the unwanted features from the data as they are not useful for building the model\n",
    "drop_cols = ['PassengerId', 'Name', 'Ticket', 'Cabin', 'SibSp']\n",
    "\n",
    "train = train.drop(drop_cols, axis = 1)\n",
    "test = test.drop(drop_cols, axis = 1)\n",
    "\n",
    "# lets also drop the columns - 'CategoricalAge', 'CategoricalFare' as we have created them separately as 'Fare' and 'Age'\n",
    "train = train.drop(['CategoricalAge', 'CategoricalFare'], axis = 1)\n"
   ]
  },
  {
   "cell_type": "code",
   "execution_count": 313,
   "metadata": {},
   "outputs": [
    {
     "data": {
      "text/plain": [
       "Index(['Survived', 'Pclass', 'Sex', 'Age', 'Parch', 'Fare', 'Embarked',\n",
       "       'Name_length', 'Has_Cabin', 'FamilySize', 'IsAlone', 'Title'],\n",
       "      dtype='object')"
      ]
     },
     "execution_count": 313,
     "metadata": {},
     "output_type": "execute_result"
    }
   ],
   "source": [
    "train.columns\n",
    "\n",
    "# Now that we have finalized on the columns lets look at some data visualisations for better understanding"
   ]
  },
  {
   "cell_type": "markdown",
   "metadata": {},
   "source": [
    "### Data Visualization"
   ]
  },
  {
   "cell_type": "code",
   "execution_count": 314,
   "metadata": {},
   "outputs": [
    {
     "data": {
      "text/html": [
       "<div>\n",
       "<style scoped>\n",
       "    .dataframe tbody tr th:only-of-type {\n",
       "        vertical-align: middle;\n",
       "    }\n",
       "\n",
       "    .dataframe tbody tr th {\n",
       "        vertical-align: top;\n",
       "    }\n",
       "\n",
       "    .dataframe thead th {\n",
       "        text-align: right;\n",
       "    }\n",
       "</style>\n",
       "<table border=\"1\" class=\"dataframe\">\n",
       "  <thead>\n",
       "    <tr style=\"text-align: right;\">\n",
       "      <th></th>\n",
       "      <th>Survived</th>\n",
       "      <th>Pclass</th>\n",
       "      <th>Sex</th>\n",
       "      <th>Age</th>\n",
       "      <th>Parch</th>\n",
       "      <th>Fare</th>\n",
       "      <th>Embarked</th>\n",
       "      <th>Name_length</th>\n",
       "      <th>Has_Cabin</th>\n",
       "      <th>FamilySize</th>\n",
       "      <th>IsAlone</th>\n",
       "      <th>Title</th>\n",
       "    </tr>\n",
       "  </thead>\n",
       "  <tbody>\n",
       "    <tr>\n",
       "      <th>0</th>\n",
       "      <td>0</td>\n",
       "      <td>3</td>\n",
       "      <td>1</td>\n",
       "      <td>1</td>\n",
       "      <td>0</td>\n",
       "      <td>0.0</td>\n",
       "      <td>0</td>\n",
       "      <td>23</td>\n",
       "      <td>0</td>\n",
       "      <td>2</td>\n",
       "      <td>0</td>\n",
       "      <td>1</td>\n",
       "    </tr>\n",
       "    <tr>\n",
       "      <th>1</th>\n",
       "      <td>1</td>\n",
       "      <td>1</td>\n",
       "      <td>0</td>\n",
       "      <td>2</td>\n",
       "      <td>0</td>\n",
       "      <td>3.0</td>\n",
       "      <td>1</td>\n",
       "      <td>51</td>\n",
       "      <td>1</td>\n",
       "      <td>2</td>\n",
       "      <td>0</td>\n",
       "      <td>3</td>\n",
       "    </tr>\n",
       "    <tr>\n",
       "      <th>2</th>\n",
       "      <td>1</td>\n",
       "      <td>3</td>\n",
       "      <td>0</td>\n",
       "      <td>1</td>\n",
       "      <td>0</td>\n",
       "      <td>1.0</td>\n",
       "      <td>0</td>\n",
       "      <td>22</td>\n",
       "      <td>0</td>\n",
       "      <td>1</td>\n",
       "      <td>1</td>\n",
       "      <td>2</td>\n",
       "    </tr>\n",
       "    <tr>\n",
       "      <th>3</th>\n",
       "      <td>1</td>\n",
       "      <td>1</td>\n",
       "      <td>0</td>\n",
       "      <td>2</td>\n",
       "      <td>0</td>\n",
       "      <td>3.0</td>\n",
       "      <td>0</td>\n",
       "      <td>44</td>\n",
       "      <td>1</td>\n",
       "      <td>2</td>\n",
       "      <td>0</td>\n",
       "      <td>3</td>\n",
       "    </tr>\n",
       "    <tr>\n",
       "      <th>4</th>\n",
       "      <td>0</td>\n",
       "      <td>3</td>\n",
       "      <td>1</td>\n",
       "      <td>2</td>\n",
       "      <td>0</td>\n",
       "      <td>1.0</td>\n",
       "      <td>0</td>\n",
       "      <td>24</td>\n",
       "      <td>0</td>\n",
       "      <td>1</td>\n",
       "      <td>1</td>\n",
       "      <td>1</td>\n",
       "    </tr>\n",
       "  </tbody>\n",
       "</table>\n",
       "</div>"
      ],
      "text/plain": [
       "   Survived  Pclass  Sex  Age  Parch  Fare  Embarked  Name_length  Has_Cabin  \\\n",
       "0         0       3    1    1      0   0.0         0           23          0   \n",
       "1         1       1    0    2      0   3.0         1           51          1   \n",
       "2         1       3    0    1      0   1.0         0           22          0   \n",
       "3         1       1    0    2      0   3.0         0           44          1   \n",
       "4         0       3    1    2      0   1.0         0           24          0   \n",
       "\n",
       "   FamilySize  IsAlone  Title  \n",
       "0           2        0      1  \n",
       "1           2        0      3  \n",
       "2           1        1      2  \n",
       "3           2        0      3  \n",
       "4           1        1      1  "
      ]
     },
     "execution_count": 314,
     "metadata": {},
     "output_type": "execute_result"
    }
   ],
   "source": [
    "train.head()"
   ]
  },
  {
   "cell_type": "code",
   "execution_count": 315,
   "metadata": {},
   "outputs": [],
   "source": [
    "train['Fare'] = train['Fare'].astype(int)"
   ]
  },
  {
   "cell_type": "code",
   "execution_count": 316,
   "metadata": {},
   "outputs": [
    {
     "name": "stdout",
     "output_type": "stream",
     "text": [
      "('Survived', 2)\n",
      "('Pclass', 3)\n",
      "('Sex', 2)\n",
      "('Age', 5)\n",
      "('Parch', 7)\n",
      "('Fare', 4)\n",
      "('Embarked', 3)\n",
      "('Name_length', 50)\n",
      "('Has_Cabin', 2)\n",
      "('FamilySize', 9)\n",
      "('IsAlone', 2)\n",
      "('Title', 5)\n"
     ]
    }
   ],
   "source": [
    "train.head()\n",
    "\n",
    "for i in train.columns:\n",
    "    print((i, train[i].nunique()))\n",
    "\n",
    "# lets classify the following features into continuous, discrete, binary, and ordinal. It is important for modeling\n",
    "# continuous: 'Age', 'Name_length'\n",
    "# discrete: 'Embarked', 'Title'\n",
    "# binary: 'Survived', 'Sex', 'Has_Cabin', 'IsAlone'\n",
    "# ordinal: 'Age', 'Pclass', 'Age', 'Parch', 'Fare', 'Name_length', 'FamilySize'"
   ]
  },
  {
   "cell_type": "code",
   "execution_count": 317,
   "metadata": {},
   "outputs": [
    {
     "data": {
      "text/plain": [
       "<matplotlib.axes._subplots.AxesSubplot at 0x1c2621ae80>"
      ]
     },
     "execution_count": 317,
     "metadata": {},
     "output_type": "execute_result"
    },
    {
     "data": {
      "image/png": "[encoded data removed]",
      "text/plain": [
       "<Figure size 1008x864 with 2 Axes>"
      ]
     },
     "metadata": {
      "needs_background": "light"
     },
     "output_type": "display_data"
    }
   ],
   "source": [
    "# lets look at the correlation between each of the variables\n",
    "colormap = plt.cm.RdBu\n",
    "plt.figure(figsize=(14,12))\n",
    "plt.title('Pearson Correlation of Features', y=1.05, size=15)\n",
    "sns.heatmap(train.astype(float).corr(),linewidths=0.1,vmax=1.0, \n",
    "            square=True, cmap=colormap, linecolor='white', annot=True)"
   ]
  },
  {
   "cell_type": "markdown",
   "metadata": {},
   "source": [
    "#### From the above correlations we can see that not too many features strongly correlated with one another. This is good because we don't have redundancy in the data and each feature carries some information. Here are two most correlated features are that of Family size and Parch (Parents and Children)."
   ]
  },
  {
   "cell_type": "code",
   "execution_count": 318,
   "metadata": {},
   "outputs": [
    {
     "name": "stdout",
     "output_type": "stream",
     "text": [
      "There are 6 strongly correlated values with OD_amt_usd:\n",
      "Survived       1.000000\n",
      "Title          0.407753\n",
      "Name_length    0.332350\n",
      "Has_Cabin      0.316912\n",
      "Pclass        -0.338481\n",
      "Sex           -0.543351\n",
      "Name: Survived, dtype: float64\n"
     ]
    }
   ],
   "source": [
    "# correlation of the variables wrt target variable\n",
    "train_corr = train.corr()['Survived']\n",
    "\n",
    "golden_features_list = train_corr[abs(train_corr) > 0.3].sort_values(ascending=False)\n",
    "\n",
    "print(\"There are {} strongly correlated values with OD_amt_usd:\\n{}\".\\\n",
    "      format(len(golden_features_list), golden_features_list))\n",
    "\n",
    "# the following variables have strong correlation with predictive variable\n",
    "# Title, Name_length, Has_Cabin, Pclass, Sex"
   ]
  },
  {
   "cell_type": "code",
   "execution_count": 319,
   "metadata": {},
   "outputs": [
    {
     "data": {
      "text/plain": [
       "<seaborn.axisgrid.PairGrid at 0x1c2634ea90>"
      ]
     },
     "execution_count": 319,
     "metadata": {},
     "output_type": "execute_result"
    },
    {
     "data": {
      "image/png": "[encoded data removed]",
      "text/plain": [
       "<Figure size 1620x1620 with 90 Axes>"
      ]
     },
     "metadata": {
      "needs_background": "light"
     },
     "output_type": "display_data"
    }
   ],
   "source": [
    "# lets look at the Pairplots to see the distribution of one variable with each other\n",
    "g = sns.pairplot(train[[u'Survived', u'Pclass', u'Sex', u'Age', u'Parch', u'Fare', u'Embarked',\n",
    "       u'FamilySize', u'Title']])\n",
    "g.set(xticklabels=[])"
   ]
  },
  {
   "cell_type": "code",
   "execution_count": 336,
   "metadata": {
    "scrolled": false
   },
   "outputs": [
    {
     "data": {
      "image/png": "[encoded data removed]",
      "text/plain": [
       "<Figure size 864x2160 with 10 Axes>"
      ]
     },
     "metadata": {
      "needs_background": "light"
     },
     "output_type": "display_data"
    }
   ],
   "source": [
    "# Let's plot the number of values present in each column - training data\n",
    "\n",
    "train_new = train[['Pclass', 'Sex', 'Age', 'Parch', 'Fare', 'Embarked',\n",
    "       'Has_Cabin', 'FamilySize', 'IsAlone', 'Title']]\n",
    "\n",
    "fig, axes = plt.subplots(round(len(train_new.columns) / 2), 2, figsize=(12, 30))\n",
    "\n",
    "for i, ax in enumerate(fig.axes):\n",
    "    if i < len(train_new.columns):\n",
    "        ax.set_xticklabels(ax.xaxis.get_majorticklabels(), rotation=45)\n",
    "        sns.countplot(x=train_new.columns[i], alpha=0.7, data=train_new, ax=ax)\n",
    "\n",
    "fig.tight_layout()"
   ]
  },
  {
   "cell_type": "code",
   "execution_count": 338,
   "metadata": {},
   "outputs": [
    {
     "data": {
      "image/png": "[encoded data removed]",
      "text/plain": [
       "<Figure size 864x2160 with 10 Axes>"
      ]
     },
     "metadata": {
      "needs_background": "light"
     },
     "output_type": "display_data"
    }
   ],
   "source": [
    "# Let's plot the number of values present in each column - test data\n",
    "\n",
    "test_new = test[['Pclass', 'Sex', 'Age', 'Parch', 'Fare', 'Embarked',\n",
    "       'Has_Cabin', 'FamilySize', 'IsAlone', 'Title']]\n",
    "\n",
    "fig, axes = plt.subplots(round(len(train_new.columns) / 2), 2, figsize=(12, 30))\n",
    "\n",
    "for i, ax in enumerate(fig.axes):\n",
    "    if i < len(train_new.columns):\n",
    "        ax.set_xticklabels(ax.xaxis.get_majorticklabels(), rotation=45)\n",
    "        sns.countplot(x=train_new.columns[i], alpha=0.7, data=train_new, ax=ax)\n",
    "\n",
    "fig.tight_layout()"
   ]
  },
  {
   "cell_type": "markdown",
   "metadata": {},
   "source": [
    "### Modeling\n",
    "\n",
    "#### Here we are building the XGBoost Classifier model"
   ]
  },
  {
   "cell_type": "code",
   "execution_count": 324,
   "metadata": {},
   "outputs": [
    {
     "name": "stdout",
     "output_type": "stream",
     "text": [
      "Index(['Survived', 'Pclass', 'Sex', 'Age', 'Parch', 'Fare', 'Embarked',\n",
      "       'Name_length', 'Has_Cabin', 'FamilySize', 'IsAlone', 'Title'],\n",
      "      dtype='object')\n",
      "Index(['Pclass', 'Sex', 'Age', 'Parch', 'Fare', 'Embarked', 'Survived',\n",
      "       'Name_length', 'Has_Cabin', 'FamilySize', 'IsAlone', 'CategoricalFare',\n",
      "       'CategoricalAge', 'Title'],\n",
      "      dtype='object')\n"
     ]
    },
    {
     "data": {
      "text/plain": [
       "(None, None)"
      ]
     },
     "execution_count": 324,
     "metadata": {},
     "output_type": "execute_result"
    }
   ],
   "source": [
    "print(train.columns), print(test.columns)"
   ]
  },
  {
   "cell_type": "code",
   "execution_count": 325,
   "metadata": {
    "scrolled": true
   },
   "outputs": [],
   "source": [
    "test = test.drop(['CategoricalFare', 'CategoricalAge'], axis = 1)"
   ]
  },
  {
   "cell_type": "code",
   "execution_count": 326,
   "metadata": {},
   "outputs": [
    {
     "data": {
      "text/plain": [
       "((891, 12), (418, 12))"
      ]
     },
     "execution_count": 326,
     "metadata": {},
     "output_type": "execute_result"
    }
   ],
   "source": [
    "train.shape, test.shape"
   ]
  },
  {
   "cell_type": "code",
   "execution_count": 327,
   "metadata": {},
   "outputs": [
    {
     "name": "stdout",
     "output_type": "stream",
     "text": [
      "Index(['Survived', 'Pclass', 'Sex', 'Age', 'Parch', 'Fare', 'Embarked',\n",
      "       'Name_length', 'Has_Cabin', 'FamilySize', 'IsAlone', 'Title'],\n",
      "      dtype='object')\n",
      "Index(['Pclass', 'Sex', 'Age', 'Parch', 'Fare', 'Embarked', 'Survived',\n",
      "       'Name_length', 'Has_Cabin', 'FamilySize', 'IsAlone', 'Title'],\n",
      "      dtype='object')\n"
     ]
    },
    {
     "data": {
      "text/plain": [
       "(None, None)"
      ]
     },
     "execution_count": 327,
     "metadata": {},
     "output_type": "execute_result"
    }
   ],
   "source": [
    "print(train.columns), print(test.columns)"
   ]
  },
  {
   "cell_type": "code",
   "execution_count": 328,
   "metadata": {},
   "outputs": [],
   "source": [
    "# Create Numpy arrays of train, test and target ( Survived) dataframes to feed into our models\n",
    "y_train = train['Survived'].ravel()\n",
    "y_test = test['Survived'].ravel()\n",
    "\n",
    "train = train.drop(['Survived'], axis=1)\n",
    "test = test.drop(['Survived'], axis=1)\n",
    "\n",
    "x_train = train.values # Creates an array of the train data\n",
    "x_test = test.values # Creats an array of the test data"
   ]
  },
  {
   "cell_type": "code",
   "execution_count": 330,
   "metadata": {},
   "outputs": [
    {
     "data": {
      "text/plain": [
       "((891, 11), (891,), (418, 11), (418,))"
      ]
     },
     "execution_count": 330,
     "metadata": {},
     "output_type": "execute_result"
    }
   ],
   "source": [
    "x_train.shape, y_train.shape, x_test.shape, y_test.shape"
   ]
  },
  {
   "cell_type": "code",
   "execution_count": 331,
   "metadata": {},
   "outputs": [
    {
     "data": {
      "text/plain": [
       "Pclass         int64\n",
       "Sex            int64\n",
       "Age            int64\n",
       "Parch          int64\n",
       "Fare           int64\n",
       "Embarked       int64\n",
       "Name_length    int64\n",
       "Has_Cabin      int64\n",
       "FamilySize     int64\n",
       "IsAlone        int64\n",
       "Title          int64\n",
       "dtype: object"
      ]
     },
     "execution_count": 331,
     "metadata": {},
     "output_type": "execute_result"
    }
   ],
   "source": [
    "train.dtypes"
   ]
  },
  {
   "cell_type": "code",
   "execution_count": 332,
   "metadata": {},
   "outputs": [
    {
     "data": {
      "text/plain": [
       "Pclass           int64\n",
       "Sex              int64\n",
       "Age              int64\n",
       "Parch            int64\n",
       "Fare           float64\n",
       "Embarked         int64\n",
       "Name_length      int64\n",
       "Has_Cabin        int64\n",
       "FamilySize       int64\n",
       "IsAlone          int64\n",
       "Title            int64\n",
       "dtype: object"
      ]
     },
     "execution_count": 332,
     "metadata": {},
     "output_type": "execute_result"
    }
   ],
   "source": [
    "test.dtypes"
   ]
  },
  {
   "cell_type": "code",
   "execution_count": 353,
   "metadata": {},
   "outputs": [
    {
     "data": {
      "text/plain": [
       "XGBClassifier(base_score=0.5, booster='gbtree', colsample_bylevel=1,\n",
       "              colsample_bytree=0.8, gamma=0, learning_rate=0.1,\n",
       "              max_delta_step=0, max_depth=5, min_child_weight=1, missing=None,\n",
       "              n_estimators=500, n_jobs=1, nthread=4,\n",
       "              objective='binary:logistic', random_state=0, reg_alpha=0,\n",
       "              reg_lambda=1, scale_pos_weight=1, seed=27, silent=True,\n",
       "              subsample=0.8)"
      ]
     },
     "execution_count": 353,
     "metadata": {},
     "output_type": "execute_result"
    }
   ],
   "source": [
    "# fit model on training data\n",
    "\n",
    "from xgboost import XGBClassifier\n",
    "\n",
    "model = XGBClassifier(\n",
    " learning_rate =0.1,\n",
    " n_estimators=500,\n",
    " max_depth=5,\n",
    " min_child_weight=1,\n",
    " gamma=0,\n",
    " subsample=0.8,\n",
    " colsample_bytree=0.8,\n",
    " objective= 'binary:logistic',\n",
    " nthread=4,\n",
    " scale_pos_weight=1,\n",
    " seed=27)\n",
    "\n",
    "model.fit(x_train, y_train)"
   ]
  },
  {
   "cell_type": "code",
   "execution_count": 432,
   "metadata": {},
   "outputs": [
    {
     "data": {
      "text/plain": [
       "({'mean_fit_time': array([1.36226177e-02, 2.42167912e+00, 6.00138569e-01, 6.78095818e-03,\n",
       "         3.64429779e+00, 7.82818651e-01, 5.88917732e-03, 3.63539920e+00,\n",
       "         8.97426844e-01, 2.46744156e-03, 2.84587145e+00, 1.08884110e+00]),\n",
       "  'std_fit_time': array([0.01386014, 0.00736502, 0.03134288, 0.00894148, 0.19494431,\n",
       "         0.07684466, 0.00791999, 0.02774836, 0.00658268, 0.00075112,\n",
       "         0.1569682 , 0.0083489 ]),\n",
       "  'mean_score_time': array([0.00339723, 0.04299083, 0.01240344, 0.00236101, 0.06911945,\n",
       "         0.02441525, 0.00867319, 0.03871698, 0.02235723, 0.0019403 ,\n",
       "         0.02737055, 0.02290611]),\n",
       "  'std_score_time': array([0.00178853, 0.00774034, 0.00899185, 0.00024487, 0.01527131,\n",
       "         0.00118991, 0.00848025, 0.00577386, 0.00740525, 0.00018377,\n",
       "         0.0027682 , 0.0038123 ]),\n",
       "  'param_max_depth': masked_array(data=[3, 3, 3, 5, 5, 5, 7, 7, 7, 9, 9, 9],\n",
       "               mask=[False, False, False, False, False, False, False, False,\n",
       "                     False, False, False, False],\n",
       "         fill_value='?',\n",
       "              dtype=object),\n",
       "  'param_n_estimators': masked_array(data=[1, 2000, 400, 1, 2000, 400, 1, 2000, 400, 1, 2000, 400],\n",
       "               mask=[False, False, False, False, False, False, False, False,\n",
       "                     False, False, False, False],\n",
       "         fill_value='?',\n",
       "              dtype=object),\n",
       "  'params': [{'max_depth': 3, 'n_estimators': 1},\n",
       "   {'max_depth': 3, 'n_estimators': 2000},\n",
       "   {'max_depth': 3, 'n_estimators': 400},\n",
       "   {'max_depth': 5, 'n_estimators': 1},\n",
       "   {'max_depth': 5, 'n_estimators': 2000},\n",
       "   {'max_depth': 5, 'n_estimators': 400},\n",
       "   {'max_depth': 7, 'n_estimators': 1},\n",
       "   {'max_depth': 7, 'n_estimators': 2000},\n",
       "   {'max_depth': 7, 'n_estimators': 400},\n",
       "   {'max_depth': 9, 'n_estimators': 1},\n",
       "   {'max_depth': 9, 'n_estimators': 2000},\n",
       "   {'max_depth': 9, 'n_estimators': 400}],\n",
       "  'split0_test_score': array([0.85079051, 0.83155468, 0.86106719, 0.86264822, 0.80862978,\n",
       "         0.83550725, 0.86093544, 0.80968379, 0.83484848, 0.86093544,\n",
       "         0.81086957, 0.83814229]),\n",
       "  'split1_test_score': array([0.81885027, 0.80721925, 0.81363636, 0.81156417, 0.80354278,\n",
       "         0.81617647, 0.80975936, 0.8026738 , 0.81417112, 0.80975936,\n",
       "         0.80561497, 0.82045455]),\n",
       "  'split2_test_score': array([0.86497326, 0.88522727, 0.8915107 , 0.87058824, 0.88188503,\n",
       "         0.89191176, 0.87606952, 0.87947861, 0.89217914, 0.87520053,\n",
       "         0.87814171, 0.8915107 ]),\n",
       "  'split3_test_score': array([0.82647059, 0.82673797, 0.86818182, 0.84204545, 0.80935829,\n",
       "         0.84197861, 0.84364973, 0.81550802, 0.82887701, 0.84364973,\n",
       "         0.81604278, 0.82860963]),\n",
       "  'split4_test_score': array([0.84603111, 0.84895626, 0.90533174, 0.88312724, 0.83871826,\n",
       "         0.87820769, 0.8880468 , 0.84297301, 0.86437974, 0.8880468 ,\n",
       "         0.84284005, 0.86052387]),\n",
       "  'mean_test_score': array([0.84142315, 0.83993909, 0.86794556, 0.85399467, 0.82842683,\n",
       "         0.85275636, 0.85569217, 0.83006345, 0.8468911 , 0.85551837,\n",
       "         0.83070182, 0.84784821]),\n",
       "  'std_test_score': array([0.01671348, 0.02625827, 0.03146394, 0.02506818, 0.02945655,\n",
       "         0.02804531, 0.02736565, 0.02823437, 0.02791769, 0.02723815,\n",
       "         0.02696455, 0.02561962]),\n",
       "  'rank_test_score': array([ 8,  9,  1,  4, 12,  5,  2, 11,  7,  3, 10,  6], dtype=int32)},\n",
       " {'max_depth': 3, 'n_estimators': 400},\n",
       " 0.8679455616964123)"
      ]
     },
     "execution_count": 432,
     "metadata": {},
     "output_type": "execute_result"
    }
   ],
   "source": [
    "# grid search - parameter tuning\n",
    "\n",
    "from sklearn.model_selection import GridSearchCV\n",
    "\n",
    "param_test1 = {\n",
    " 'max_depth':range(3,10,2),\n",
    " 'n_estimators':(1,2000,400)\n",
    "}\n",
    "gsearch1 = GridSearchCV(estimator = XGBClassifier( learning_rate =0.1, n_estimators=500, max_depth=5,\n",
    " min_child_weight=1, gamma=0, subsample=0.8, colsample_bytree=0.8,\n",
    " objective= 'binary:logistic', nthread=4, scale_pos_weight=1, seed=27), \n",
    " param_grid = param_test1, scoring='roc_auc',n_jobs=20,iid=False, cv=5)\n",
    "\n",
    "gsearch1.fit(x_train, y_train)\n",
    "\n",
    "gsearch1.cv_results_, gsearch1.best_params_, gsearch1.best_score_"
   ]
  },
  {
   "cell_type": "code",
   "execution_count": 433,
   "metadata": {},
   "outputs": [
    {
     "data": {
      "text/plain": [
       "XGBClassifier(base_score=0.5, booster='gbtree', colsample_bylevel=1,\n",
       "              colsample_bytree=0.8, gamma=0, learning_rate=0.1,\n",
       "              max_delta_step=0, max_depth=3, min_child_weight=3, missing=None,\n",
       "              n_estimators=400, n_jobs=1, nthread=4,\n",
       "              objective='binary:logistic', random_state=0, reg_alpha=0,\n",
       "              reg_lambda=1, scale_pos_weight=1, seed=27, silent=True,\n",
       "              subsample=0.8)"
      ]
     },
     "execution_count": 433,
     "metadata": {},
     "output_type": "execute_result"
    }
   ],
   "source": [
    "# fit model with best estimator\n",
    "\n",
    "model = XGBClassifier(\n",
    " learning_rate =0.1,\n",
    " n_estimators=400,\n",
    " max_depth=3,\n",
    " min_child_weight=3,\n",
    " gamma=0,\n",
    " subsample=0.8,\n",
    " colsample_bytree=0.8,\n",
    " objective= 'binary:logistic',\n",
    " nthread=4,\n",
    " scale_pos_weight=1,\n",
    " seed=27)\n",
    "\n",
    "model.fit(x_train, y_train)"
   ]
  },
  {
   "cell_type": "code",
   "execution_count": 434,
   "metadata": {},
   "outputs": [
    {
     "data": {
      "text/plain": [
       "array([0.07937999, 0.04227337, 0.09769845, 0.04274307, 0.10709253,\n",
       "       0.07421324, 0.33818695, 0.03240958, 0.08783466, 0.01221231,\n",
       "       0.08595585], dtype=float32)"
      ]
     },
     "execution_count": 434,
     "metadata": {},
     "output_type": "execute_result"
    }
   ],
   "source": [
    "model.feature_importances_"
   ]
  },
  {
   "cell_type": "code",
   "execution_count": 435,
   "metadata": {},
   "outputs": [],
   "source": [
    "# feature importance\n",
    "feature_imp = []\n",
    "for e, element in enumerate(train.columns):\n",
    "    feature_imp.append((element, model.feature_importances_[e]))\n",
    "    \n",
    "feature_imp = sorted(feature_imp, key=lambda x:(-x[1],x[0]))"
   ]
  },
  {
   "cell_type": "code",
   "execution_count": 436,
   "metadata": {},
   "outputs": [
    {
     "data": {
      "image/png": "[encoded data removed]",
      "text/plain": [
       "<Figure size 1440x720 with 1 Axes>"
      ]
     },
     "metadata": {
      "needs_background": "light"
     },
     "output_type": "display_data"
    }
   ],
   "source": [
    "# plot the feature importances\n",
    "plt.figure(figsize=(20,10))\n",
    "plt.bar([i[0] for i in feature_imp], [i[1] for i in feature_imp])\n",
    "plt.show()"
   ]
  },
  {
   "cell_type": "markdown",
   "metadata": {},
   "source": [
    "#### Important features from the above plot are: 'Name_length', 'Fare', 'Age', 'FamilySize', and 'Title'"
   ]
  },
  {
   "cell_type": "code",
   "execution_count": 437,
   "metadata": {},
   "outputs": [
    {
     "name": "stdout",
     "output_type": "stream",
     "text": [
      "Training Accuracy: 89.79%\n"
     ]
    }
   ],
   "source": [
    "# training accuracy\n",
    "\n",
    "y_pred2 = model.predict(x_train)\n",
    "predictions2 = [round(value) for value in y_pred2]\n",
    "\n",
    "accuracy2 = accuracy_score(y_train, predictions2)\n",
    "print(\"Training Accuracy: %.2f%%\" % (accuracy2 * 100.0))"
   ]
  },
  {
   "cell_type": "code",
   "execution_count": 438,
   "metadata": {},
   "outputs": [
    {
     "name": "stdout",
     "output_type": "stream",
     "text": [
      "Testing Accuracy: 84.69%\n"
     ]
    }
   ],
   "source": [
    "# Make Predictions with XGBoost Model\n",
    "\n",
    "from sklearn.metrics import accuracy_score\n",
    "from sklearn.metrics import confusion_matrix\n",
    "\n",
    "# make predictions for test data\n",
    "y_pred = model.predict(x_test)\n",
    "predictions = [round(value) for value in y_pred]\n",
    "\n",
    "accuracy = accuracy_score(y_test, predictions)\n",
    "print(\"Testing Accuracy: %.2f%%\" % (accuracy * 100.0))"
   ]
  },
  {
   "cell_type": "code",
   "execution_count": 439,
   "metadata": {},
   "outputs": [],
   "source": [
    "tn, fp, fn, tp = confusion_matrix(y_test, predictions).ravel()"
   ]
  },
  {
   "cell_type": "code",
   "execution_count": 440,
   "metadata": {},
   "outputs": [
    {
     "data": {
      "text/plain": [
       "(227, 39, 25, 127)"
      ]
     },
     "execution_count": 440,
     "metadata": {},
     "output_type": "execute_result"
    }
   ],
   "source": [
    "tn, fp, fn, tp"
   ]
  },
  {
   "cell_type": "code",
   "execution_count": 441,
   "metadata": {},
   "outputs": [
    {
     "name": "stdout",
     "output_type": "stream",
     "text": [
      "area under ROC curve: 84.45%\n"
     ]
    }
   ],
   "source": [
    "from sklearn import metrics\n",
    "fpr, tpr, thresholds = metrics.roc_curve(y_test, predictions)\n",
    "print(\"area under ROC curve: %.2f%%\" % (metrics.auc(fpr, tpr) * 100.0))"
   ]
  },
  {
   "cell_type": "code",
   "execution_count": 442,
   "metadata": {},
   "outputs": [
    {
     "name": "stdout",
     "output_type": "stream",
     "text": [
      "Precision: 76.51%\n",
      "Recall: 83.55%\n",
      "f_score: 79.87%\n"
     ]
    }
   ],
   "source": [
    "precision = tp/(tp+fp)\n",
    "recall = tp/(tp+fn)\n",
    "f_score = 2*precision*recall/(precision+recall)\n",
    "\n",
    "print(\"Precision: %.2f%%\" % (precision * 100.0))\n",
    "print(\"Recall: %.2f%%\" % (recall * 100.0))\n",
    "print(\"f_score: %.2f%%\" % (f_score * 100.0))"
   ]
  },
  {
   "cell_type": "markdown",
   "metadata": {},
   "source": [
    "#### Lets compare the XGBoost Classifier model performance with a more basic model like Random Forest"
   ]
  },
  {
   "cell_type": "code",
   "execution_count": 443,
   "metadata": {},
   "outputs": [],
   "source": [
    "from sklearn import model_selection\n",
    "\n",
    "# random forest model creation\n",
    "rfc = RandomForestClassifier(n_estimators = 1000, max_depth = 10)\n",
    "rfc.fit(x_train,y_train)\n",
    "\n",
    "# predictions\n",
    "rfc_predict = rfc.predict(x_test.astype(int))"
   ]
  },
  {
   "cell_type": "code",
   "execution_count": 429,
   "metadata": {},
   "outputs": [
    {
     "data": {
      "text/plain": [
       "({'mean_fit_time': array([3.84378433e-03, 3.34103217e+00, 6.73514876e+00, 1.00884006e+01,\n",
       "         1.32484323e+01, 7.22465515e-03, 3.50844936e+00, 6.74034572e+00,\n",
       "         1.00982436e+01, 1.34728615e+01, 1.15346432e-02, 3.47555647e+00,\n",
       "         6.92656226e+00, 1.04947128e+01, 1.40939579e+01, 1.08156204e-02,\n",
       "         3.56962681e+00, 7.22530026e+00, 8.99820857e+00, 7.96573954e+00]),\n",
       "  'std_fit_time': array([0.00032959, 0.02608375, 0.02866433, 0.04770574, 0.04965728,\n",
       "         0.00713092, 0.02919352, 0.04767483, 0.02638672, 0.0459868 ,\n",
       "         0.00892508, 0.02124348, 0.03241261, 0.0255466 , 0.08550792,\n",
       "         0.00779993, 0.03475563, 0.01010315, 0.06510195, 0.03487152]),\n",
       "  'mean_score_time': array([0.00234547, 0.21418896, 0.43928218, 0.63347702, 0.83486476,\n",
       "         0.00453496, 0.22923889, 0.44537988, 0.64578538, 0.88427262,\n",
       "         0.0110826 , 0.2154933 , 0.46672359, 0.6774869 , 0.86787591,\n",
       "         0.00883412, 0.23389158, 0.41569386, 0.3279098 , 0.21552582]),\n",
       "  'std_score_time': array([0.00035827, 0.01853459, 0.01666078, 0.02000488, 0.01391381,\n",
       "         0.00467294, 0.01601164, 0.00527914, 0.00716009, 0.01448646,\n",
       "         0.00682813, 0.00759902, 0.02011788, 0.00948758, 0.02515341,\n",
       "         0.00751309, 0.01130212, 0.04412425, 0.0149615 , 0.01433463]),\n",
       "  'param_max_depth': masked_array(data=[3, 3, 3, 3, 3, 5, 5, 5, 5, 5, 7, 7, 7, 7, 7, 9, 9, 9,\n",
       "                     9, 9],\n",
       "               mask=[False, False, False, False, False, False, False, False,\n",
       "                     False, False, False, False, False, False, False, False,\n",
       "                     False, False, False, False],\n",
       "         fill_value='?',\n",
       "              dtype=object),\n",
       "  'param_n_estimators': masked_array(data=[1, 401, 801, 1201, 1601, 1, 401, 801, 1201, 1601, 1,\n",
       "                     401, 801, 1201, 1601, 1, 401, 801, 1201, 1601],\n",
       "               mask=[False, False, False, False, False, False, False, False,\n",
       "                     False, False, False, False, False, False, False, False,\n",
       "                     False, False, False, False],\n",
       "         fill_value='?',\n",
       "              dtype=object),\n",
       "  'params': [{'max_depth': 3, 'n_estimators': 1},\n",
       "   {'max_depth': 3, 'n_estimators': 401},\n",
       "   {'max_depth': 3, 'n_estimators': 801},\n",
       "   {'max_depth': 3, 'n_estimators': 1201},\n",
       "   {'max_depth': 3, 'n_estimators': 1601},\n",
       "   {'max_depth': 5, 'n_estimators': 1},\n",
       "   {'max_depth': 5, 'n_estimators': 401},\n",
       "   {'max_depth': 5, 'n_estimators': 801},\n",
       "   {'max_depth': 5, 'n_estimators': 1201},\n",
       "   {'max_depth': 5, 'n_estimators': 1601},\n",
       "   {'max_depth': 7, 'n_estimators': 1},\n",
       "   {'max_depth': 7, 'n_estimators': 401},\n",
       "   {'max_depth': 7, 'n_estimators': 801},\n",
       "   {'max_depth': 7, 'n_estimators': 1201},\n",
       "   {'max_depth': 7, 'n_estimators': 1601},\n",
       "   {'max_depth': 9, 'n_estimators': 1},\n",
       "   {'max_depth': 9, 'n_estimators': 401},\n",
       "   {'max_depth': 9, 'n_estimators': 801},\n",
       "   {'max_depth': 9, 'n_estimators': 1201},\n",
       "   {'max_depth': 9, 'n_estimators': 1601}],\n",
       "  'split0_test_score': array([0.82509881, 0.87009223, 0.86772069, 0.86837945, 0.86943347,\n",
       "         0.85546772, 0.87839262, 0.87891963, 0.8770751 , 0.87839262,\n",
       "         0.85059289, 0.87509881, 0.87167325, 0.87562582, 0.87496706,\n",
       "         0.77714097, 0.87180501, 0.86903821, 0.86785244, 0.86693017]),\n",
       "  'split1_test_score': array([0.81356952, 0.83649733, 0.83756684, 0.83856952, 0.83763369,\n",
       "         0.81109626, 0.83877005, 0.83783422, 0.83636364, 0.83836898,\n",
       "         0.79485294, 0.82887701, 0.82994652, 0.83008021, 0.83061497,\n",
       "         0.76203209, 0.82954545, 0.83141711, 0.82874332, 0.8302139 ]),\n",
       "  'split2_test_score': array([0.86323529, 0.87486631, 0.87733957, 0.87613636, 0.87667112,\n",
       "         0.81236631, 0.88856952, 0.88990642, 0.89004011, 0.88897059,\n",
       "         0.87627005, 0.89725936, 0.89886364, 0.89859626, 0.89979947,\n",
       "         0.76102941, 0.90247326, 0.90260695, 0.90314171, 0.90354278]),\n",
       "  'split3_test_score': array([0.78382353, 0.86597594, 0.86570856, 0.86798128, 0.86891711,\n",
       "         0.8598262 , 0.86510695, 0.86457219, 0.86604278, 0.86403743,\n",
       "         0.7665107 , 0.8684492 , 0.86764706, 0.86885027, 0.86991979,\n",
       "         0.74906417, 0.86550802, 0.8671123 , 0.86590909, 0.86697861]),\n",
       "  'split4_test_score': array([0.80966627, 0.88924345, 0.88904401, 0.88698311, 0.887382  ,\n",
       "         0.82774897, 0.91065018, 0.90878872, 0.90958649, 0.9085228 ,\n",
       "         0.8293445 , 0.91357532, 0.91397421, 0.91251163, 0.91224571,\n",
       "         0.80441431, 0.91197979, 0.91211275, 0.91317644, 0.91277756]),\n",
       "  'mean_test_score': array([0.81907868, 0.86733505, 0.86747593, 0.86760995, 0.86800748,\n",
       "         0.83330109, 0.87629787, 0.87600424, 0.87582162, 0.87565849,\n",
       "         0.82351422, 0.87665194, 0.87642094, 0.87713284, 0.8775094 ,\n",
       "         0.77073619, 0.87626231, 0.87645746, 0.8757646 , 0.8760886 ]),\n",
       "  'std_test_score': array([0.02587632, 0.01730383, 0.01708924, 0.01607542, 0.0165883 ,\n",
       "         0.02077059, 0.0239526 , 0.02393422, 0.02448004, 0.02362332,\n",
       "         0.03904176, 0.02877549, 0.02889054, 0.02827423, 0.02816598,\n",
       "         0.01905201, 0.02926   , 0.02872666, 0.03006622, 0.02956744]),\n",
       "  'rank_test_score': array([19, 16, 15, 14, 13, 17,  6,  9, 10, 12, 18,  3,  5,  2,  1, 20,  7,\n",
       "          4, 11,  8], dtype=int32)},\n",
       " {'max_depth': 7, 'n_estimators': 1601},\n",
       " 0.8775093997057792)"
      ]
     },
     "execution_count": 429,
     "metadata": {},
     "output_type": "execute_result"
    }
   ],
   "source": [
    "param_test1 = {\n",
    " 'max_depth':range(3,10,2),\n",
    " 'n_estimators':range(1,2000,400)\n",
    "}\n",
    "gsearch1 = GridSearchCV(estimator = RandomForestClassifier(n_estimators = 1000, max_depth = 10), \n",
    " param_grid = param_test1, scoring='roc_auc',n_jobs=20,iid=False, cv=5)\n",
    "\n",
    "gsearch1.fit(x_train, y_train)\n",
    "\n",
    "gsearch1.cv_results_, gsearch1.best_params_, gsearch1.best_score_"
   ]
  },
  {
   "cell_type": "code",
   "execution_count": 444,
   "metadata": {},
   "outputs": [],
   "source": [
    "# random forest model creation\n",
    "rfc = RandomForestClassifier(n_estimators = 1601, max_depth = 7)\n",
    "rfc.fit(x_train,y_train)\n",
    "\n",
    "# predictions\n",
    "rfc_predict = rfc.predict(x_test.astype(int))"
   ]
  },
  {
   "cell_type": "code",
   "execution_count": 445,
   "metadata": {},
   "outputs": [
    {
     "name": "stdout",
     "output_type": "stream",
     "text": [
      "Testing Accuracy: 90.91%\n",
      "area under ROC curve: 90.60%\n",
      "Precision: 86.08%\n",
      "Recall: 89.47%\n",
      "f_score: 87.74%\n"
     ]
    }
   ],
   "source": [
    "# Make Predictions with RF Model\n",
    "# make predictions for test data\n",
    "predictions = [round(value) for value in rfc_predict]\n",
    "\n",
    "accuracy = accuracy_score(y_test, predictions)\n",
    "print(\"Testing Accuracy: %.2f%%\" % (accuracy * 100.0))\n",
    "\n",
    "tn, fp, fn, tp = confusion_matrix(y_test, predictions).ravel()\n",
    "\n",
    "fpr, tpr, thresholds = metrics.roc_curve(y_test, predictions)\n",
    "print(\"area under ROC curve: %.2f%%\" % (metrics.auc(fpr, tpr) * 100.0))\n",
    "\n",
    "precision = tp/(tp+fp)\n",
    "recall = tp/(tp+fn)\n",
    "f_score = 2*precision*recall/(precision+recall)\n",
    "\n",
    "print(\"Precision: %.2f%%\" % (precision * 100.0))\n",
    "print(\"Recall: %.2f%%\" % (recall * 100.0))\n",
    "print(\"f_score: %.2f%%\" % (f_score * 100.0))"
   ]
  },
  {
   "cell_type": "markdown",
   "metadata": {},
   "source": [
    "#### By comparing both the models performance we can find the following differences:\n",
    "1. For XGBoost model\n",
    "Testing Accuracy: 84.69%;\n",
    "area under ROC curve: 84.45%;\n",
    "Precision: 76.51%;\n",
    "Recall: 83.55%;\n",
    "f_score: 79.87%;\n",
    "\n",
    "2. For RF model\n",
    "Testing Accuracy: 90.91%;\n",
    "area under ROC curve: 90.60%;\n",
    "Precision: 86.08%;\n",
    "Recall: 89.47%;\n",
    "f_score: 87.74%;\n",
    "\n",
    "#### From the above numbers we can say that RF model has better performance over the XGBoost model in this case. This is the case where simple models can perform better than the complex models. The accuracy of 90% on test dataset is great with an f-score of 88%."
   ]
  }
 ],
 "metadata": {
  "kernelspec": {
   "display_name": "Python 3",
   "language": "python",
   "name": "python3"
  },
  "language_info": {
   "codemirror_mode": {
    "name": "ipython",
    "version": 3
   },
   "file_extension": ".py",
   "mimetype": "text/x-python",
   "name": "python",
   "nbconvert_exporter": "python",
   "pygments_lexer": "ipython3",
   "version": "3.6.10"
  }
 },
 "nbformat": 4,
 "nbformat_minor": 4
}
